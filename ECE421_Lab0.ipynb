{
  "nbformat": 4,
  "nbformat_minor": 0,
  "metadata": {
    "colab": {
      "name": "ECE421 Lab0.ipynb",
      "provenance": [],
      "collapsed_sections": [
        "fAUfw6DncqaO",
        "-txhn2gajJTg",
        "gJw1Gb9Dl72t",
        "iofvxzakq8-w",
        "3VcthjWVul_x",
        "BOAWpT_owNHj",
        "CvMuzfvRrvNY",
        "e0MmCPICFYkW"
      ],
      "toc_visible": true
    },
    "kernelspec": {
      "name": "python3",
      "display_name": "Python 3"
    }
  },
  "cells": [
    {
      "cell_type": "markdown",
      "metadata": {
        "id": "fAUfw6DncqaO"
      },
      "source": [
        "# Tensorflow Basics\r\n"
      ]
    },
    {
      "cell_type": "markdown",
      "metadata": {
        "id": "E8bhvEKJcEtL"
      },
      "source": [
        "## Import the tensor flow library"
      ]
    },
    {
      "cell_type": "code",
      "metadata": {
        "id": "lUTDYTKhb5Bl"
      },
      "source": [
        "import tensorflow as tf\r\n",
        "tf.__version__"
      ],
      "execution_count": null,
      "outputs": []
    },
    {
      "cell_type": "markdown",
      "metadata": {
        "id": "UHngRMnPcLS1"
      },
      "source": [
        "## Creating Tensors"
      ]
    },
    {
      "cell_type": "code",
      "metadata": {
        "id": "0RFiHveLcI7H"
      },
      "source": [
        "# Constant tensor \r\n",
        "x = tf.constant(1)\r\n",
        "print(x)\r\n",
        "\r\n",
        "# Variable tensor whose value can change\r\n",
        "y = tf.Variable([[1], [2]])\r\n",
        "print(y)"
      ],
      "execution_count": null,
      "outputs": []
    },
    {
      "cell_type": "code",
      "metadata": {
        "id": "MSv_6iL-c09L"
      },
      "source": [
        "# Constant tensor but only for scalar value tensors\r\n",
        "x = tf.fill([3,3], 1)\r\n",
        "print(\"Fill:\", x, \"\\n\")\r\n",
        "print(x.dtype, \"\\n\")\r\n",
        "print(tf.cast(x, tf.float64), \"\\n\")\r\n",
        "\r\n",
        "# Tensor with random shape and values as specified by the random distribution\r\n",
        "y = tf.random.normal([2,2], 5.0, 10.0)\r\n",
        "print(\"Random:\" , y, \"\\n\")\r\n",
        "\r\n",
        "# Random variable with normal distribution\r\n",
        "EX = tf.Variable(tf.random.normal([2,2], 5.0, 10.0))\r\n",
        "print(\"Random Variable:\", EX, \"\\n\")\r\n"
      ],
      "execution_count": null,
      "outputs": []
    },
    {
      "cell_type": "markdown",
      "metadata": {
        "id": "mWPu579Xeow3"
      },
      "source": [
        "## Shape, Size, and Axis"
      ]
    },
    {
      "cell_type": "code",
      "metadata": {
        "id": "c1Z9esoUes-j"
      },
      "source": [
        "# Shape of a tensor constant\r\n",
        "x = tf.constant([[1,2,3], [4,5,6]])\r\n",
        "print(\"Tensor x has shape:\", x.shape)"
      ],
      "execution_count": null,
      "outputs": []
    },
    {
      "cell_type": "markdown",
      "metadata": {
        "id": "E6o0IcPXgK8e"
      },
      "source": [
        "## Manipulating Tensors"
      ]
    },
    {
      "cell_type": "code",
      "metadata": {
        "id": "lEiOt1TigNht"
      },
      "source": [
        "# Matrix multiply a with b \r\n",
        "a = tf.constant([[1,2,3], [4,5,6]])\r\n",
        "b = tf.constant([[7,8], [9,10], [11, 12]])\r\n",
        "c = tf.matmul(a, b)\r\n",
        "print(\"a x b = \", c.numpy(), \"\\n\")\r\n",
        "\r\n",
        "# Square all entires of a tensor\r\n",
        "x = tf.constant([1,2,3,4,5])\r\n",
        "y = tf.square(x)\r\n",
        "print(y.numpy())"
      ],
      "execution_count": null,
      "outputs": []
    },
    {
      "cell_type": "code",
      "metadata": {
        "id": "d2f8SwfeiVgW"
      },
      "source": [
        "# Sum accross a given axis \r\n",
        "x = tf.constant([[1., 1., 1.], [2., 2., 2.]])\r\n",
        "print(tf.reduce_sum(x))\r\n",
        "print(tf.reduce_sum(x, 0))\r\n",
        "print(tf.reduce_sum(x, 1))\r\n",
        "print(tf.reduce_sum(x, 1, keepdims = True))"
      ],
      "execution_count": null,
      "outputs": []
    },
    {
      "cell_type": "markdown",
      "metadata": {
        "id": "-txhn2gajJTg"
      },
      "source": [
        "## Broadcasting\r\n"
      ]
    },
    {
      "cell_type": "code",
      "metadata": {
        "id": "IfGVV96vjYy0"
      },
      "source": [
        "# Example of how broadcasting is used\r\n",
        "x = tf.constant([1,2,3])\r\n",
        "y = tf.constant([4])\r\n",
        "z = x + y\r\n",
        "print(x.numpy(), \" + \" , y.numpy(), \" = \", z.numpy())"
      ],
      "execution_count": null,
      "outputs": []
    },
    {
      "cell_type": "code",
      "metadata": {
        "id": "NkqISurZlDbZ"
      },
      "source": [
        "# Invalid broadcasting \r\n",
        "x = tf.constant([1,2,3])\r\n",
        "y = tf.constant([4,5])\r\n",
        "z = x + y\r\n",
        "print(x.numpy(), \" + \" , y.numpy(), \" = \", z.numpy())"
      ],
      "execution_count": null,
      "outputs": []
    },
    {
      "cell_type": "markdown",
      "metadata": {
        "id": "gJw1Gb9Dl72t"
      },
      "source": [
        "# Examples\r\n"
      ]
    },
    {
      "cell_type": "markdown",
      "metadata": {
        "id": "NkW_Ynm9mGd6"
      },
      "source": [
        "## Given x = 3, y = 4, find f = yx^2 + y + 2 in Tensorflow 1.x"
      ]
    },
    {
      "cell_type": "code",
      "metadata": {
        "id": "V-FrDJcemCA5"
      },
      "source": [
        "# Import correct version of tensorflow\r\n",
        "%tensorflow_version 1.x\r\n",
        "import tensorflow as tf\r\n",
        "tf.__version__\r\n",
        "\r\n",
        "# Create Varibles\r\n",
        "x = tf.Variable(3, name=\"x\")\r\n",
        "y = tf.Variable(4, name=\"y\")\r\n",
        "f = x*x*y + y + 2\r\n",
        "\r\n",
        "# Create a node to initialize all varibles of the graph\r\n",
        "init_op = tf.global_variables_initializer()\r\n",
        "\r\n",
        "# Run graph whitin a \"session\"\r\n",
        "with tf.Session() as sess:\r\n",
        "  sess.run(init_op)\r\n",
        "  print(sess.run(f))"
      ],
      "execution_count": null,
      "outputs": []
    },
    {
      "cell_type": "markdown",
      "metadata": {
        "id": "grExBYX8o6xY"
      },
      "source": [
        "## Given x = 3, y = 4, find f = yx^2 + y + 2 in Tensorflow 2.x"
      ]
    },
    {
      "cell_type": "code",
      "metadata": {
        "id": "IvQRJTp8o80f"
      },
      "source": [
        "# Import correct version of tensorflow\r\n",
        "import tensorflow as tf\r\n",
        "tf.__version__\r\n",
        "\r\n",
        "# Create Varibles\r\n",
        "x = tf.Variable(3, name=\"x\")\r\n",
        "y = tf.Variable(4, name=\"y\")\r\n",
        "f = x*x*y + y + 2\r\n",
        "\r\n",
        "print(f)\r\n",
        "\r\n",
        "print(f.numpy())"
      ],
      "execution_count": null,
      "outputs": []
    },
    {
      "cell_type": "markdown",
      "metadata": {
        "id": "gYAg8kLVprmh"
      },
      "source": [
        "## Given x = 3, y = 4, find f = yx^2 + y + c using Tensorflow 1.x, where c = 2 is fed in later"
      ]
    },
    {
      "cell_type": "code",
      "metadata": {
        "colab": {
          "base_uri": "https://localhost:8080/"
        },
        "id": "0JUHZg1Ep23m",
        "outputId": "2532c6e7-f926-4123-91ff-eb9ef423058e"
      },
      "source": [
        "# Import correct version of tensorflow\r\n",
        "%tensorflow_version 1.x\r\n",
        "import tensorflow as tf\r\n",
        "tf.__version__\r\n",
        "\r\n",
        "# Create variables and placeholder\r\n",
        "x = tf.Variable(3, name=\"x\")\r\n",
        "y = tf.Variable(4, name=\"y\")\r\n",
        "c = tf.placeholder(tf.int32)\r\n",
        "f = x*x*y + y + c\r\n",
        "\r\n",
        "# Create a node to initialize all varibles of the graph\r\n",
        "init_op = tf.global_variables_initializer()\r\n",
        "\r\n",
        "# Run graph whitin a \"session\"\r\n",
        "with tf.Session() as sess:\r\n",
        "  sess.run(init_op)\r\n",
        "  print(sess.run(f, {c : 2}))"
      ],
      "execution_count": null,
      "outputs": [
        {
          "output_type": "stream",
          "text": [
            "42\n"
          ],
          "name": "stdout"
        }
      ]
    },
    {
      "cell_type": "markdown",
      "metadata": {
        "id": "iofvxzakq8-w"
      },
      "source": [
        "## Given x = 3, y = 4, find f = yx^2 + y + c using Tensorflow 2.x, where c = 2 is fed in later"
      ]
    },
    {
      "cell_type": "code",
      "metadata": {
        "colab": {
          "base_uri": "https://localhost:8080/"
        },
        "id": "jIaEHBCLq_t3",
        "outputId": "633b6ace-73f0-473a-c9cb-ffd92d113270"
      },
      "source": [
        "# Import correct version of tensorflow\r\n",
        "%tensorflow_version 2.x\r\n",
        "import tensorflow as tf\r\n",
        "tf.__version__\r\n",
        "\r\n",
        "# Create variables\r\n",
        "x = tf.Variable(3)\r\n",
        "y = tf.Variable(4)\r\n",
        "\r\n",
        "# Create function\r\n",
        "def f(x, y, c):\r\n",
        "  return x*x*y + y + c\r\n",
        "\r\n",
        "print(f(x,y,2).numpy())"
      ],
      "execution_count": null,
      "outputs": [
        {
          "output_type": "stream",
          "text": [
            "42\n"
          ],
          "name": "stdout"
        }
      ]
    },
    {
      "cell_type": "markdown",
      "metadata": {
        "id": "3VcthjWVul_x"
      },
      "source": [
        "## Minimize f(x) = (log(x))^2 in Tensorflow 1.x"
      ]
    },
    {
      "cell_type": "code",
      "metadata": {
        "id": "jQLAZ8bXutTo"
      },
      "source": [
        "# Import correct version of tensorflow\r\n",
        "%tensorflow_version 1.x\r\n",
        "import tensorflow as tf\r\n",
        "tf.__version__\r\n",
        "\r\n",
        "# Initialize variables\r\n",
        "x = tf.Variable(5, name='x', dtype=tf.float32)\r\n",
        "f = tf.square(tf.log(x))\r\n",
        "\r\n",
        "# Create optimizer\r\n",
        "optimizer = tf.train.GradientDescentOptimizer(0.1)\r\n",
        "train = optimizer.minimize(f)\r\n",
        "\r\n",
        "init_op = tf.global_variables_initializer()\r\n",
        "\r\n",
        "# Start optimization\r\n",
        "with tf.Session() as sess:\r\n",
        "  sess.run(init_op)\r\n",
        "  print(\"Starting at x:\", sess.run(x), \"log(x)^2: \", sess.run(f))\r\n",
        "  for step in range(100):\r\n",
        "    sess.run(train)\r\n",
        "    print(\"Step \", step + 1, \"x: \", sess.run(x), \"log(x)^2: \", sess.run(f))\r\n",
        "\r\n",
        "import matplotlib.pyplot as plt\r\n",
        "import numpy as np\r\n",
        "x = np.linspace(0.1, 10, 100)\r\n",
        "f = np.square(np.log(x))\r\n",
        "plt.plot(x, f, 'b')\r\n",
        "plt.show()"
      ],
      "execution_count": null,
      "outputs": []
    },
    {
      "cell_type": "markdown",
      "metadata": {
        "id": "BOAWpT_owNHj"
      },
      "source": [
        "<a id='GradientTape'></a>\r\n",
        "## Using tf.GradientTape in Tensorflow 2.x \r\n"
      ]
    },
    {
      "cell_type": "code",
      "metadata": {
        "colab": {
          "base_uri": "https://localhost:8080/"
        },
        "id": "wIdlKI7RwsDR",
        "outputId": "6bd75d46-06b8-4f09-a94e-0d2ad871e5f7"
      },
      "source": [
        "# Import correct version of tensorflow\r\n",
        "%tensorflow_version 2.x\r\n",
        "import tensorflow as tf\r\n",
        "tf.__version__\r\n",
        "\r\n",
        "x = tf.Variable(5.0)\r\n",
        "\r\n",
        "with tf.GradientTape() as g:\r\n",
        "    g.watch(x)\r\n",
        "    f = tf.math.square(tf.math.log(x))\r\n",
        "\r\n",
        "df_dx = g.gradient(f, x)\r\n",
        "print(df_dx.numpy())"
      ],
      "execution_count": 5,
      "outputs": [
        {
          "output_type": "stream",
          "text": [
            "0.64377517\n"
          ],
          "name": "stdout"
        }
      ]
    },
    {
      "cell_type": "code",
      "metadata": {
        "colab": {
          "base_uri": "https://localhost:8080/"
        },
        "id": "PqEjW3knD6Qd",
        "outputId": "0cc7fb7f-8d17-4314-ac85-40209e3c3194"
      },
      "source": [
        "# Import correct version of tensorflow\r\n",
        "%tensorflow_version 2.x\r\n",
        "import tensorflow as tf\r\n",
        "tf.__version__\r\n",
        "\r\n",
        "x = tf.Variable(5.0)\r\n",
        "eta = tf.constant(0.1)\r\n",
        "\r\n",
        "for step in range(100):\r\n",
        "  with tf.GradientTape() as g:\r\n",
        "      g.watch(x)\r\n",
        "      f = tf.math.square(tf.math.log(x))\r\n",
        "\r\n",
        "df_dx = g.gradient(f, x)\r\n",
        "x = x - eta * df_dx\r\n",
        "print(\"Step: \", step + 1, \"x : \", x.numpy(), \"log(x)^2: \", f.numpy())\r\n"
      ],
      "execution_count": 9,
      "outputs": [
        {
          "output_type": "stream",
          "text": [
            "Step:  100 x :  4.9356227 log(x)^2:  2.5902905\n"
          ],
          "name": "stdout"
        }
      ]
    },
    {
      "cell_type": "code",
      "metadata": {
        "id": "8m5rZnTkEvcN"
      },
      "source": [
        "# Import correct version of tensorflow\r\n",
        "%tensorflow_version 2.x\r\n",
        "import tensorflow as tf\r\n",
        "tf.__version__\r\n",
        "\r\n",
        "def f():\r\n",
        "  return tf.math.square(tf.math.log(x))\r\n",
        "\r\n",
        "x = tf.Variable(5.0)\r\n",
        "\r\n",
        "optimizer = tf.keras.optimizers.SGD(learning_rate = 0.1)\r\n",
        "\r\n",
        "for step in range(100):\r\n",
        "  optimizer.minimize(f, x)\r\n",
        "  print(\"Step: \", step + 1, \"x : \", x.numpy(), \"log(x)^2: \", f().numpy())"
      ],
      "execution_count": null,
      "outputs": []
    },
    {
      "cell_type": "markdown",
      "metadata": {
        "id": "CvMuzfvRrvNY"
      },
      "source": [
        "# Optimization in Tensorflow 1.x and 2.x"
      ]
    },
    {
      "cell_type": "markdown",
      "metadata": {
        "id": "451LuWUJr4dC"
      },
      "source": [
        "<h5>Suppose that we want to solve the following unconstrained optimization problem: <br>\r\n",
        "<div align = \"center\">$min_{x}$ $f(x)$ </div>\r\n",
        "Can we find the minimum value using a gradient descent, $x_{k+1}$ =  $x_{k}$ - $\\eta \\nabla f$, $\\eta$ is out step-szie or learning rate \r\n",
        "\r\n",
        "In Tensorflow 1.x: Create an optimization node in the graph \r\n",
        "<br>\r\n",
        "```\r\n",
        "optimizer = tf.train.GradientDescentOptimizer(learning_rate = 0.01)\r\n",
        "training_op = optimizer.minimize(f)\r\n",
        "```\r\n",
        "In Tensorflow 2.: Use a gradient tape\r\n",
        "<br>\r\n",
        "[See example](#scrollTo=BOAWpT_owNHj)"
      ]
    },
    {
      "cell_type": "markdown",
      "metadata": {
        "id": "e0MmCPICFYkW"
      },
      "source": [
        "# Data loading\r\n"
      ]
    },
    {
      "cell_type": "markdown",
      "metadata": {
        "id": "_Cs_ntswFiE8"
      },
      "source": [
        "Tensorflow allows you to easily load in well-known datasets like Fashing MNIST, IMDB, and Reuters. \r\n"
      ]
    },
    {
      "cell_type": "code",
      "metadata": {
        "id": "8RKo0C6WF7M9"
      },
      "source": [
        "# Loading and displaying datasets using keras\r\n",
        "import tensorflow as tf\r\n",
        "import matplotlib.pyplot as plt\r\n",
        "import numpy as np\r\n",
        "(x_train, y_train), (x_test, y_test) = tf.keras.datasets.cifar10.load_data()\r\n",
        "\r\n",
        "plt.imshow(x_train[0])\r\n",
        "print(np.shape(x_train[0]))"
      ],
      "execution_count": null,
      "outputs": []
    },
    {
      "cell_type": "markdown",
      "metadata": {
        "id": "f3DhAgXeGXNM"
      },
      "source": [
        "Alternatively tfds.load() can be used which is slightly more difficult but offers more control over the data\r\n"
      ]
    },
    {
      "cell_type": "code",
      "metadata": {
        "id": "-VLetfvGGmQh"
      },
      "source": [
        "# Loading and displaying datasets using tfds.load()\r\n",
        "import tensorflow as tf\r\n",
        "import tensorflow_datasets as tfds\r\n",
        "\r\n",
        "train_set, test_set = tfds.load(name = 'rock_paper_scissors', as_supervised = True, split = [tfds.Split.TRAIN, tfds.Split.TEST])\r\n",
        "\r\n",
        "trainValues = []\r\n",
        "trainTargets = []\r\n",
        "\r\n",
        "trainList = list(train_set)\r\n",
        "\r\n",
        "for i in range(len(trainList)):\r\n",
        "  trainValues.append(trainList[i][0])\r\n",
        "  trainTargets.append(trainList[i][1])\r\n",
        "\r\n",
        "print(trainValues)"
      ],
      "execution_count": null,
      "outputs": []
    }
  ]
}