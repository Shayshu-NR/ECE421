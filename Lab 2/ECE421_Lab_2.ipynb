{
  "nbformat": 4,
  "nbformat_minor": 0,
  "metadata": {
    "colab": {
      "name": "ECE421_Lab_2.ipynb",
      "provenance": [],
      "collapsed_sections": []
    },
    "kernelspec": {
      "name": "python3",
      "display_name": "Python 3"
    }
  },
  "cells": [
    {
      "cell_type": "markdown",
      "metadata": {
        "id": "P4CIm3_ZdSbm"
      },
      "source": [
        "Shayshu N-R\r\n",
        "1005035196"
      ]
    },
    {
      "cell_type": "code",
      "metadata": {
        "id": "_ocFCYcHWQP0"
      },
      "source": [
        "import tensorflow as tf\r\n",
        "import numpy as np\r\n",
        "import matplotlib.pyplot as plt\r\n",
        "import time\r\n",
        "import os\r\n",
        "import math\r\n",
        "os.environ['TF_CPP_MIN_LOG_LEVEL'] = '3'"
      ],
      "execution_count": null,
      "outputs": []
    },
    {
      "cell_type": "code",
      "metadata": {
        "id": "R6ILpfS_Wb9f"
      },
      "source": [
        "def loadData():\r\n",
        "  with np.load(\"notMNIST.npz\") as data:\r\n",
        "    Data, Target = data [\"images\"], data[\"labels\"]\r\n",
        "    np.random.seed(521)\r\n",
        "    randIndx = np.arange(len(Data))\r\n",
        "    np.random.shuffle(randIndx)\r\n",
        "    Data = Data[randIndx]/255.\r\n",
        "    Target = Target[randIndx]\r\n",
        "    trainData, trainTarget = Data[:10000], Target[:10000]\r\n",
        "    validData, validTarget = Data[10000:16000], Target[10000:16000]\r\n",
        "    testData, testTarget = Data[16000:], Target[16000:]\r\n",
        "  return trainData, validData, testData, trainTarget, validTarget, testTarget"
      ],
      "execution_count": null,
      "outputs": []
    },
    {
      "cell_type": "code",
      "metadata": {
        "id": "ZTI3JeEZWwGa"
      },
      "source": [
        "def convertOneHot(trainTarget, validTarget, testTarget):\r\n",
        "    newtrain = np.zeros((trainTarget.shape[0], 10))\r\n",
        "    newvalid = np.zeros((validTarget.shape[0], 10))\r\n",
        "    newtest = np.zeros((testTarget.shape[0], 10))\r\n",
        "\r\n",
        "    for item in range(0, trainTarget.shape[0]):\r\n",
        "        newtrain[item][trainTarget[item]] = 1\r\n",
        "    for item in range(0, validTarget.shape[0]):\r\n",
        "        newvalid[item][validTarget[item]] = 1\r\n",
        "    for item in range(0, testTarget.shape[0]):\r\n",
        "        newtest[item][testTarget[item]] = 1\r\n",
        "    return newtrain, newvalid, newtest"
      ],
      "execution_count": null,
      "outputs": []
    },
    {
      "cell_type": "code",
      "metadata": {
        "id": "CnvjTZu_WxhZ"
      },
      "source": [
        "def shuffle(trainData, trainTarget):\r\n",
        "    np.random.seed(421)\r\n",
        "    randIndx = np.arange(len(trainData))\r\n",
        "    target = trainTarget\r\n",
        "    np.random.shuffle(randIndx)\r\n",
        "    data, target = trainData[randIndx], target[randIndx]\r\n",
        "    return data, target"
      ],
      "execution_count": null,
      "outputs": []
    },
    {
      "cell_type": "code",
      "metadata": {
        "id": "rv2rAsf3YsoH"
      },
      "source": [
        "trainData, validData, testData, trainTarget, validTarget, testTarget = loadData()"
      ],
      "execution_count": null,
      "outputs": []
    },
    {
      "cell_type": "code",
      "metadata": {
        "id": "Ydy-Y2KPdG4v"
      },
      "source": [
        "trainTarget, validTarget, testTarget = convertOneHot(trainTarget, validTarget, testTarget)"
      ],
      "execution_count": null,
      "outputs": []
    },
    {
      "cell_type": "markdown",
      "metadata": {
        "id": "CJDBQZJ6Yg1_"
      },
      "source": [
        "# Neural Networks using Numpy:\r\n"
      ]
    },
    {
      "cell_type": "markdown",
      "metadata": {
        "id": "kVuNftDyZIsP"
      },
      "source": [
        "## Helper Functions:\r\n"
      ]
    },
    {
      "cell_type": "markdown",
      "metadata": {
        "id": "ykzWDMwR1-w8"
      },
      "source": [
        "$ReLU(x) = max(x, 0)$"
      ]
    },
    {
      "cell_type": "markdown",
      "metadata": {
        "id": "zseI0B-P2EN5"
      },
      "source": [
        "$\\sigma (z)_j = \\frac{e^{z_j}}{\\sum_{k=1}^{K}e^{z_k}} , \\hspace{2mm}j = 1, ... K\\hspace{2mm} for\\hspace{2mm} K \\hspace{2mm}classes$"
      ]
    },
    {
      "cell_type": "markdown",
      "metadata": {
        "id": "JlPOL6uH2q_x"
      },
      "source": [
        "$\\hat{y} = \\mathbf{W}^T \\mathbf{X} + b = z$"
      ]
    },
    {
      "cell_type": "markdown",
      "metadata": {
        "id": "ySw5HwE93H4j"
      },
      "source": [
        "$\\mathcal{L}_{CE} = -\\sum_{n=1}^{N} \\sum_{k=1}^{K} y_k^{(n)} log(p_{k}^{(n)}) =  -\\mathbf{y} \\cdot log(\\sigma (\\mathbf{o}))$"
      ]
    },
    {
      "cell_type": "markdown",
      "metadata": {
        "id": "7TdfM74W7KnD"
      },
      "source": [
        "$\\frac{\\partial \\mathcal{L_{CE}}}{\\partial \\mathbf{o}} = \\frac{\\partial \\mathcal{L}_{CE}}{\\partial \\sigma (\\mathbf{o})} \\cdot \\frac{\\partial \\sigma (\\mathbf{o})}{\\partial \\mathbf{o}}$"
      ]
    },
    {
      "cell_type": "markdown",
      "metadata": {
        "id": "XpHAg78Xi6VL"
      },
      "source": [
        "$\\frac{\\partial \\mathcal{L}_{CE}}{\\partial \\sigma (\\mathbf{o})} = -\\mathbf{y} \\cdot \\frac{1}{\\sigma (\\mathbf{o})}$"
      ]
    },
    {
      "cell_type": "markdown",
      "metadata": {
        "id": "Klb0y0mEjJdk"
      },
      "source": [
        "$\\frac{\\partial \\sigma (\\mathbf{o})}{\\partial \\mathbf{o}} = \\sigma (\\mathbf{o}) \\cdot (1 - \\sigma(\\mathbf{o}))$"
      ]
    },
    {
      "cell_type": "markdown",
      "metadata": {
        "id": "g2qguDtKjdEy"
      },
      "source": [
        "$\\therefore \\frac{\\partial \\mathcal{L_{CE}}}{\\partial \\mathbf{o}} = \\sigma (\\mathbf{o}) - y$"
      ]
    },
    {
      "cell_type": "code",
      "metadata": {
        "id": "uo8UVdQkZK9_"
      },
      "source": [
        "def relu(x):\r\n",
        "  return np.maximum(0, x)"
      ],
      "execution_count": null,
      "outputs": []
    },
    {
      "cell_type": "code",
      "metadata": {
        "id": "goF7Ve9xZg-p"
      },
      "source": [
        "def softmax(x):\r\n",
        "  x = x - np.max(x)\r\n",
        "  return np.exp(x) / np.sum(np.exp(x), axis = 1, keepdims = True)"
      ],
      "execution_count": null,
      "outputs": []
    },
    {
      "cell_type": "code",
      "metadata": {
        "id": "34BMG22wa9cz"
      },
      "source": [
        "def compute(X, W, b):\r\n",
        "  return np.add(np.matmul(X, W), b)"
      ],
      "execution_count": null,
      "outputs": []
    },
    {
      "cell_type": "code",
      "metadata": {
        "id": "bk9vf11lbpEz"
      },
      "source": [
        "def averageCE(y, y_hat):\r\n",
        "  log_pred = np.log(y_hat)\r\n",
        "\r\n",
        "  return -1 * np.mean(y * log_pred)"
      ],
      "execution_count": null,
      "outputs": []
    },
    {
      "cell_type": "code",
      "metadata": {
        "id": "3Judhm6_1vzs"
      },
      "source": [
        "def gradCE(targets, input):\r\n",
        "  return softmax(input) - targets"
      ],
      "execution_count": null,
      "outputs": []
    },
    {
      "cell_type": "markdown",
      "metadata": {
        "id": "xLxTs82I7hOR"
      },
      "source": [
        "##Backpropagation derivation:"
      ]
    },
    {
      "cell_type": "markdown",
      "metadata": {
        "id": "Nqh1uIM28Ocn"
      },
      "source": [
        "Architecture:\r\n",
        "*   3 layers - 1 input, 1 hident with ReLU, and 1 output with softmax\r\n",
        "*   Input layer: $\\mathbf{x}$ has 784 elements\r\n",
        "*   Hidden layer: $\\mathbf{h} = ReLU(\\mathbf{W}_h\\mathbf{x} + \\mathbf{b}_h)$ has H elements\r\n",
        "*   Output layer: $\\mathbf{p} = softmax(\\mathbf{o}) = softmax(\\mathbf{W}_o\\mathbf{h} + \\mathbf{b}_o)$ has 10 elements \r\n",
        "*   $\\mathcal{L}_{CE} = -\\sum_{n=1}^{N} \\sum_{k=1}^{K} y_k^{(n)} log(p_{k}^{(n)}) =  -\\mathbf{y} \\cdot log(\\sigma (\\mathbf{o}))$\r\n",
        "\r\n",
        "\r\n",
        "\r\n"
      ]
    },
    {
      "cell_type": "markdown",
      "metadata": {
        "id": "dUH0qHYV7vZ3"
      },
      "source": [
        "$\\frac{\\partial \\mathcal{L}}{\\partial \\mathbf{W}_o} = \\mathbf{h}^T(\\sigma (\\mathbf{o}) - \\mathbf{y})$"
      ]
    },
    {
      "cell_type": "markdown",
      "metadata": {
        "id": "a1OT7K0A763B"
      },
      "source": [
        "$\\frac{\\partial \\mathcal{L}}{\\partial \\mathbf{b}_o} = \\sigma (\\mathbf{o}) - \\mathbf{y}$"
      ]
    },
    {
      "cell_type": "markdown",
      "metadata": {
        "id": "KeEXNq9A7-Ow"
      },
      "source": [
        "$\r\n",
        "\\frac{\\partial \\mathcal{L}}{\\partial \\mathbf{W}_h} = \r\n",
        "\r\n",
        "  \\begin{cases} \r\n",
        "      \\mathbf{x}^T(\\sigma(\\mathbf{o}) - \\mathbf{y}) \\cdot \\mathbf{W}_o  & \\mathbf{W}_{h}\\mathbf{x} + \\mathbf{b}_h > 0  \\\\\r\n",
        "      0 & otherwise\r\n",
        "   \\end{cases}\r\n",
        "\r\n",
        "$\r\n"
      ]
    },
    {
      "cell_type": "markdown",
      "metadata": {
        "id": "NSRlLy8I8AZ7"
      },
      "source": [
        "$\\frac{\\partial \\mathcal{L}}{\\partial \\mathbf{b}_h} = \r\n",
        "  \\begin{cases} \r\n",
        "      (\\sigma(\\mathbf{o}) - \\mathbf{y}) \\cdot \\mathbf{W}_o & \\mathbf{W}_{h}\\mathbf{x} + \\mathbf{b}_h > 0  \\\\\r\n",
        "      0 & otherwise\r\n",
        "   \\end{cases} \r\n",
        "$"
      ]
    },
    {
      "cell_type": "markdown",
      "metadata": {
        "id": "gLoYqhGvHm-4"
      },
      "source": [
        "## Learning:"
      ]
    },
    {
      "cell_type": "code",
      "metadata": {
        "id": "2Qtx9KO5Xv06"
      },
      "source": [
        "def intiWeights(sizes):\r\n",
        "  scale_1 = np.sqrt((2.0 / (sizes[0][0] + sizes[0][1])))\r\n",
        "  scale_2 = np.sqrt((2.0 / (sizes[1][0] + sizes[1][1]))) \r\n",
        "\r\n",
        "  Wh = np.random.normal(loc=0.0, scale=scale_1, size=sizes[0])\r\n",
        "  Wo = np.random.normal(loc=0.0, scale=scale_2, size=sizes[1])\r\n",
        "  \r\n",
        "  return Wh, Wo"
      ],
      "execution_count": null,
      "outputs": []
    },
    {
      "cell_type": "code",
      "metadata": {
        "id": "I4BNZXUYBNge"
      },
      "source": [
        "def initBias(sizes):\r\n",
        "  bo = np.zeros((sizes[0][0], sizes[0][1]))\r\n",
        "  bh = np.zeros((sizes[1][0], sizes[1][1]))\r\n",
        "  \r\n",
        "  return bo, bh"
      ],
      "execution_count": null,
      "outputs": []
    },
    {
      "cell_type": "code",
      "metadata": {
        "id": "bCuT1zA2Cyz1"
      },
      "source": [
        "def initMomentum(sizes, value):\r\n",
        "  vWh = np.full(sizes[0], value)\r\n",
        "  vWo = np.full(sizes[1], value) \r\n",
        "  vbh = np.zeros(sizes[2]) \r\n",
        "  vbo = np.zeros(sizes[3])\r\n",
        "\r\n",
        "  return vWh, vWo, vbh, vbo"
      ],
      "execution_count": null,
      "outputs": []
    },
    {
      "cell_type": "code",
      "metadata": {
        "id": "QumZR6zIcoZ-"
      },
      "source": [
        "def backProp(x0, x1, x2, s1, s2, Wh, Wo, bh, bo, y):\r\n",
        "  # dl_do = softmax(s2) - y\r\n",
        "  dL_do = ( 1.0/ 10000 ) * gradCE(y, s2)\r\n",
        "\r\n",
        "  # # dL_dWo = x2^T * (softmax(s2) - y)\r\n",
        "  dL_dWo = np.matmul(np.transpose(s1), dL_do)\r\n",
        "\r\n",
        "  # dL_dbo = (softmax(s2) - y) but in the right shape...\r\n",
        "  dL_dbo = np.matmul(np.ones((1, y.shape[0])), dL_do)\r\n",
        "\r\n",
        "  # dL_dWh = x0 * pw(Relu) *(softmax(s2) - y) * W^T\r\n",
        "  ds1_dx1 = np.where(s1 > 0, 1, 0)\r\n",
        "  dL_dWh = np.matmul(dL_do, np.transpose(Wo))\r\n",
        "  dL_dWh = np.matmul(np.transpose(x0), ds1_dx1 * dL_dWh)\r\n",
        "\r\n",
        "  # dL_dbh = pw(Relu) * (softmax(s2) - y) * W^T\r\n",
        "  dL_dbh = np.matmul(dL_do, np.transpose(Wo))\r\n",
        "  dL_dbh = np.where(s1 > 0, dL_dbh, 0)\r\n",
        "  dL_dbh = np.matmul(np.ones((1, s1.shape[0])), dL_dbh)\r\n",
        " \r\n",
        "  return dL_dWo, dL_dbo, dL_dWh, dL_dbh "
      ],
      "execution_count": null,
      "outputs": []
    },
    {
      "cell_type": "code",
      "metadata": {
        "id": "23FbMQbvcze0"
      },
      "source": [
        "def newMomentum(vold, dL_dx, alpha=0.1, gamma=0.9):\r\n",
        "  vWh = (gamma * vold[0]) + (alpha * dL_dx[0])\r\n",
        "  vWo = (gamma * vold[1]) + (alpha * dL_dx[1]) \r\n",
        "  vbh = (gamma * vold[2]) + (alpha * dL_dx[2]) \r\n",
        "  vbo = (gamma * vold[3]) + (alpha * dL_dx[3]) \r\n",
        "\r\n",
        "  return vWh, vWo, vbh, vbo"
      ],
      "execution_count": null,
      "outputs": []
    },
    {
      "cell_type": "code",
      "metadata": {
        "id": "ome-NMuYGW_f"
      },
      "source": [
        "def gradientDescent(Wh_old, Wo_old, bh_old, bo_old, vWh, vWo, vbh, vbo):\r\n",
        "  Wh = Wh_old - vWh\r\n",
        "  Wo = Wo_old - vWo\r\n",
        "  bh = bh_old - vbh\r\n",
        "  bo = bo_old - vbo\r\n",
        "  \r\n",
        "  return Wh, Wo, bh, bo"
      ],
      "execution_count": null,
      "outputs": []
    },
    {
      "cell_type": "code",
      "metadata": {
        "id": "vVn9tp7HJnjK"
      },
      "source": [
        "def accuracy(prediction, target):\r\n",
        "  y_hat = np.argmax(prediction, axis = 1)\r\n",
        "  y = np.argmax(target, axis = 1)\r\n",
        "\r\n",
        "  result = np.equal(y, y_hat)\r\n",
        "  accuracy = np.sum(result) / target.shape[0]\r\n",
        "  \r\n",
        "  return accuracy"
      ],
      "execution_count": null,
      "outputs": []
    },
    {
      "cell_type": "code",
      "metadata": {
        "id": "xaTOjgqGc6--"
      },
      "source": [
        "def train(epochs=10, learning_rate=0.1, momentum=0.9):\r\n",
        "  # Get the data and reshape it...\r\n",
        "  trainData, validData, testData, trainTarget, validTarget, testTarget = loadData()\r\n",
        "  trainTarget, validTarget, testTarget = convertOneHot(trainTarget, validTarget, testTarget)\r\n",
        "\r\n",
        "  trainData = trainData.reshape((trainData.shape[0], -1))\r\n",
        "  validData = validData.reshape((validData.shape[0], -1))\r\n",
        "  testData = testData.reshape((testData.shape[0], -1))\r\n",
        "\r\n",
        "  # Intitialize weights, bias, and descent...\r\n",
        "  bo, bh = initBias([(1, 10), (1, 1000)])\r\n",
        "  Wh, Wo = intiWeights([(784, 1000), (1000, 10)])\r\n",
        "  vWh, vWo, vbh, vbo = initMomentum([(784, 1000), (1000, 10), (1, 1000), (1, 10)], 1e-5)\r\n",
        "\r\n",
        "  # Loss and accuracy variables...\r\n",
        "  itters = []\r\n",
        "  train_loss, val_loss, test_loss = [], [], []\r\n",
        "  train_acc, val_acc, test_acc = [], [], []\r\n",
        "\r\n",
        "\r\n",
        "  for itteration in range(epochs):\r\n",
        "    # Compute forward propagation for the training set...\r\n",
        "    s1 = compute(trainData, Wh, bh)\r\n",
        "    x1 = relu(s1)\r\n",
        "\r\n",
        "    s2 = compute(x1, Wo, bo)\r\n",
        "    x2 = softmax(s2)\r\n",
        "\r\n",
        "    # Compute forward propagation for the validation set...\r\n",
        "    val_s1 = compute(validData, Wh, bh)\r\n",
        "    val_x1 = relu(val_s1)\r\n",
        "\r\n",
        "    val_s2 = compute(val_x1, Wo, bo)\r\n",
        "    val_x2 = softmax(val_s2)\r\n",
        "\r\n",
        "    # Compute forward propagation for the testing set...\r\n",
        "    test_s1 = compute(testData, Wh, bh)\r\n",
        "    test_x1 = relu(test_s1)\r\n",
        "\r\n",
        "    test_s2 = compute(test_x1, Wo, bo)\r\n",
        "    test_x2 = softmax(test_s2)\r\n",
        "\r\n",
        "    # Calculate the loss and accuracy for the training set...\r\n",
        "    train_loss.append(averageCE(trainTarget, x2))\r\n",
        "    train_acc.append(accuracy(x2, trainTarget))\r\n",
        "\r\n",
        "    # Calculate the loss and accuracy for the validation set...\r\n",
        "    val_loss.append(averageCE(validTarget, val_x2))\r\n",
        "    val_acc.append(accuracy(val_x2, validTarget))\r\n",
        "\r\n",
        "    # Calculate the loss and accuracy for the testing set...\r\n",
        "    test_loss.append(averageCE(testTarget, test_x2))\r\n",
        "    test_acc.append(accuracy(test_x2, testTarget))\r\n",
        "\r\n",
        "    # Compute back propagation...\r\n",
        "    # Use the formulas developed in 1.2 to compute the gradient of the loss \r\n",
        "    # function with respect to Wo, bo, Wh, and bh....\r\n",
        "    dL_dWo, dL_dbo, dL_dWh, dL_dbh = backProp(trainData, x1, x2, s1, s2, Wh, Wo, bh, bo, trainTarget)\r\n",
        "\r\n",
        "    # Now get the new momentum/descent terms using the partial derivatives \r\n",
        "    # calculated...\r\n",
        "    vWh, vWo, vbh, vbo = newMomentum([vWh, vWo, vbh, vbo], [dL_dWh, dL_dWo, dL_dbh, dL_dbo], alpha=learning_rate, gamma=momentum)\r\n",
        "\r\n",
        "    # Compute the new values of the weights and bias using gradient descent\r\n",
        "    Wh, Wo, bh, bo = gradientDescent(Wh, Wo, bh, bo, vWh, vWo, vbh, vbo)\r\n",
        "\r\n",
        "    itters.append(itteration)\r\n",
        "\r\n",
        "  return train_loss, val_loss, test_loss, train_acc, val_acc, test_acc, itters"
      ],
      "execution_count": null,
      "outputs": []
    },
    {
      "cell_type": "code",
      "metadata": {
        "id": "_uHTMBBAfnvv",
        "colab": {
          "base_uri": "https://localhost:8080/",
          "height": 642
        },
        "outputId": "64845a18-5941-4a4e-b243-222e864489c8"
      },
      "source": [
        "train_loss, val_loss, test_loss, train_acc, val_acc, test_acc, itters = train(epochs=200)\r\n",
        "\r\n",
        "plt.plot(train_loss, label=\"Training error\")\r\n",
        "plt.plot(val_loss, label=\"Validation error\")\r\n",
        "plt.plot(test_loss, label=\"Testing error\")\r\n",
        "plt.title(\"Cross entropy loss\")\r\n",
        "plt.legend()\r\n",
        "plt.show()\r\n",
        "\r\n",
        "plt.plot(train_acc, label=\"Training accuracy\")\r\n",
        "plt.plot(val_acc, label=\"Validation accuracy\")\r\n",
        "plt.plot(test_acc, label=\"Testing accuracy\")\r\n",
        "plt.title(\"Accuracy\")\r\n",
        "plt.legend()\r\n",
        "plt.show()\r\n",
        "\r\n",
        "print(\"Best training loss:\", np.min(train_loss))\r\n",
        "print(\"Best validation loss:\", np.min(val_loss))\r\n",
        "print(\"Best testing loss:\", np.min(test_loss))\r\n",
        "\r\n",
        "print(\"Best training accuracy:\", np.max(train_acc))\r\n",
        "print(\"Best validation accuracy:\", np.max(val_acc))\r\n",
        "print(\"Best testing accuracy:\", np.max(test_acc))"
      ],
      "execution_count": null,
      "outputs": [
        {
          "output_type": "display_data",
          "data": {
            "image/png": "[encoded data removed]",
            "text/plain": [
              "<Figure size 432x288 with 1 Axes>"
            ]
          },
          "metadata": {
            "tags": [],
            "needs_background": "light"
          }
        },
        {
          "output_type": "display_data",
          "data": {
            "image/png": "[encoded data removed]",
            "text/plain": [
              "<Figure size 432x288 with 1 Axes>"
            ]
          },
          "metadata": {
            "tags": [],
            "needs_background": "light"
          }
        },
        {
          "output_type": "stream",
          "text": [
            "Best training loss: 0.01400416450371402\n",
            "Best validation loss: 0.03275416173423728\n",
            "Best testing loss: 0.035540894134529426\n",
            "Best training accuracy: 0.969\n",
            "Best validation accuracy: 0.9071666666666667\n",
            "Best testing accuracy: 0.907856093979442\n"
          ],
          "name": "stdout"
        }
      ]
    }
  ]
}